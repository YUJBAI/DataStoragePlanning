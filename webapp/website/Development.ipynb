{
 "cells": [
  {
   "cell_type": "markdown",
   "id": "6558dfcd",
   "metadata": {},
   "source": [
    "### Monthly Calculator"
   ]
  },
  {
   "cell_type": "code",
   "execution_count": null,
   "id": "016a26f0",
   "metadata": {},
   "outputs": [],
   "source": [
    "data_per_day = 830\n",
    "storage_price = 0.081380083    \n",
    "\n",
    "data_per_month = 830 * 365 /12"
   ]
  },
  {
   "cell_type": "code",
   "execution_count": null,
   "id": "b2afadef",
   "metadata": {},
   "outputs": [],
   "source": [
    "def capex_accmult(data, storage_price, months):\n",
    "    print(data)"
   ]
  },
  {
   "cell_type": "code",
   "execution_count": null,
   "id": "fb50381f",
   "metadata": {
    "scrolled": true
   },
   "outputs": [],
   "source": [
    "capex_accmult(data_per_month, storage_price, 12)"
   ]
  },
  {
   "cell_type": "markdown",
   "id": "2fb5d0e2",
   "metadata": {},
   "source": [
    "### Storage Graph"
   ]
  },
  {
   "cell_type": "code",
   "execution_count": 1,
   "id": "01dabcc0",
   "metadata": {},
   "outputs": [],
   "source": [
    "from datetime import date, timedelta, datetime\n",
    "import pandas as pd"
   ]
  },
  {
   "cell_type": "code",
   "execution_count": 2,
   "id": "a3c3e8cd",
   "metadata": {},
   "outputs": [],
   "source": [
    "def add_storage(data, start_date, data_generated_per_year):\n",
    "    start_date = datetime.strptime(start_date, \"%d/%m/%Y\").date()\n",
    "    tmp_list = []\n",
    "    i = 0\n",
    " \n",
    "    for x in range(len(data) - 1):\n",
    "        curr = data[x]\n",
    "        after = data[x+1]\n",
    "        \n",
    "        curr_date = start_date + timedelta(days=365*i)\n",
    "        \n",
    "        tmp_list.append([curr[0], curr[1], 400, \"o\"])\n",
    "        if curr[0] < curr_date and after[0] > curr_date:\n",
    "            tmp_list.append([curr_date, \"\", data_generated_per_year, \"a\"])\n",
    "            i += 1\n",
    "            \n",
    "    tmp_list.append([data[-1][0], data[-1][1], 400, \"o\"])   \n",
    "    if data[-1][0] < start_date + timedelta(days=365*i):\n",
    "        tmp_list.append([start_date + timedelta(days=365*i), \"\", data_generated_per_year, \"a\"])\n",
    "\n",
    "    tmp_df = pd.DataFrame(tmp_list, columns = ['date', '1', '2', '3']).sort_values(by = \"date\").values.tolist()\n",
    "  \n",
    "    return tmp_df\n",
    "\n",
    "def data_correction(data):    \n",
    "    for i in range(1, len(data)):\n",
    "        prev_row = data[i - 1]\n",
    "        curr_row = data[i]\n",
    "        \n",
    "        if prev_row[1] != '' and curr_row[1] != prev_row[1] + curr_row[2]:\n",
    "            curr_row[1] = prev_row[1] + curr_row[2]\n",
    "    \n",
    "    tmp = [[data[0][0], data[0][1]]]\n",
    "    for i in range(1, len(data)):\n",
    "        prev_row = data[i - 1]\n",
    "        curr_row = data[i]\n",
    "        \n",
    "        if curr_row[3] == 'a':\n",
    "            tmp.append([curr_row[0], prev_row[1]])\n",
    "            tmp.append([curr_row[0], curr_row[1]])\n",
    "        elif curr_row[3] == 'o':\n",
    "            tmp.append([curr_row[0], curr_row[1]])\n",
    "        \n",
    "    return tmp\n",
    "\n",
    "def generate_graph_data(start_date, data_generated_per_year, year, initial_data_size = 600, gradient = 400):\n",
    "    data = [[(date.today() + timedelta(days=365 * i)), initial_data_size + gradient*i] for i in range(year + 1)]\n",
    "    \n",
    "    after_data = add_storage(data, start_date, data_generated_per_year)\n",
    "    after_data = data_correction(after_data)\n",
    "    \n",
    "    for row in data:\n",
    "        row[0] = row[0].strftime(\"%Y-%m-%d\")\n",
    "    for row in after_data:\n",
    "        row[0] = row[0].strftime(\"%Y-%m-%d\")\n",
    "    \n",
    "    data = [{'x': row[0], 'y': row[1]} for row in data]\n",
    "    after_data = [{'x': row[0], 'y': row[1]} for row in after_data]\n",
    "    \n",
    "    return data, after_data"
   ]
  },
  {
   "cell_type": "code",
   "execution_count": 3,
   "id": "5b0a484b",
   "metadata": {},
   "outputs": [
    {
     "data": {
      "text/plain": [
       "([{'x': '2022-03-31', 'y': 600},\n",
       "  {'x': '2023-03-31', 'y': 1000},\n",
       "  {'x': '2024-03-30', 'y': 1400},\n",
       "  {'x': '2025-03-30', 'y': 1800},\n",
       "  {'x': '2026-03-30', 'y': 2200},\n",
       "  {'x': '2027-03-30', 'y': 2600}],\n",
       " [{'x': '2022-03-31', 'y': 600},\n",
       "  {'x': '2023-03-31', 'y': 1000},\n",
       "  {'x': '2023-06-06', 'y': 1000},\n",
       "  {'x': '2023-06-06', 'y': 1830},\n",
       "  {'x': '2024-03-30', 'y': 2230},\n",
       "  {'x': '2024-06-05', 'y': 2230},\n",
       "  {'x': '2024-06-05', 'y': 3060},\n",
       "  {'x': '2025-03-30', 'y': 3460},\n",
       "  {'x': '2025-06-05', 'y': 3460},\n",
       "  {'x': '2025-06-05', 'y': 4290},\n",
       "  {'x': '2026-03-30', 'y': 4690},\n",
       "  {'x': '2026-06-05', 'y': 4690},\n",
       "  {'x': '2026-06-05', 'y': 5520},\n",
       "  {'x': '2027-03-30', 'y': 5920},\n",
       "  {'x': '2027-06-05', 'y': 5920},\n",
       "  {'x': '2027-06-05', 'y': 6750}])"
      ]
     },
     "execution_count": 3,
     "metadata": {},
     "output_type": "execute_result"
    }
   ],
   "source": [
    "generate_graph_data(\"06/06/2023\", 830, 5)"
   ]
  },
  {
   "cell_type": "code",
   "execution_count": 5,
   "id": "7db1f21c",
   "metadata": {},
   "outputs": [
    {
     "data": {
      "text/plain": [
       "([{'x': '2022-03-31', 'y': 50000.0},\n",
       "  {'x': '2023-03-31', 'y': 83333.33333333334},\n",
       "  {'x': '2024-03-30', 'y': 116666.66666666667},\n",
       "  {'x': '2025-03-30', 'y': 150000.0},\n",
       "  {'x': '2026-03-30', 'y': 183333.33333333334},\n",
       "  {'x': '2027-03-30', 'y': 216666.6666666667}],\n",
       " [{'x': '2022-03-31', 'y': 50000.0},\n",
       "  {'x': '2022-06-06', 'y': 50000.0},\n",
       "  {'x': '2022-06-06', 'y': 352950.0},\n",
       "  {'x': '2023-03-31', 'y': 353350.0},\n",
       "  {'x': '2023-06-06', 'y': 353350.0},\n",
       "  {'x': '2023-06-06', 'y': 656300.0},\n",
       "  {'x': '2024-03-30', 'y': 656700.0},\n",
       "  {'x': '2024-06-05', 'y': 656700.0},\n",
       "  {'x': '2024-06-05', 'y': 959650.0},\n",
       "  {'x': '2025-03-30', 'y': 960050.0},\n",
       "  {'x': '2025-06-05', 'y': 960050.0},\n",
       "  {'x': '2025-06-05', 'y': 1263000.0},\n",
       "  {'x': '2026-03-30', 'y': 1263400.0},\n",
       "  {'x': '2026-06-05', 'y': 1263400.0},\n",
       "  {'x': '2026-06-05', 'y': 1566350.0},\n",
       "  {'x': '2027-03-30', 'y': 1566750.0},\n",
       "  {'x': '2027-06-05', 'y': 1566750.0},\n",
       "  {'x': '2027-06-05', 'y': 1869700.0}])"
      ]
     },
     "execution_count": 5,
     "metadata": {},
     "output_type": "execute_result"
    }
   ],
   "source": [
    "generate_graph_data(\"06/06/2022\", 830 * 365, 5, 50000, 50000 * 2 / 3)"
   ]
  }
 ],
 "metadata": {
  "kernelspec": {
   "display_name": "Python 3 (ipykernel)",
   "language": "python",
   "name": "python3"
  },
  "language_info": {
   "codemirror_mode": {
    "name": "ipython",
    "version": 3
   },
   "file_extension": ".py",
   "mimetype": "text/x-python",
   "name": "python",
   "nbconvert_exporter": "python",
   "pygments_lexer": "ipython3",
   "version": "3.10.2"
  }
 },
 "nbformat": 4,
 "nbformat_minor": 5
}
